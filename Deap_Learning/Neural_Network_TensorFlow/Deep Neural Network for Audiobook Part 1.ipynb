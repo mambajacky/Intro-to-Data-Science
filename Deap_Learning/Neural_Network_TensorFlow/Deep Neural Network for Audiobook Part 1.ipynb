{
 "cells": [
  {
   "cell_type": "markdown",
   "metadata": {},
   "source": [
    "# Neural Network Practical Example - Preprocessing"
   ]
  },
  {
   "cell_type": "markdown",
   "metadata": {},
   "source": [
    "### Extract the data from csv file "
   ]
  },
  {
   "cell_type": "code",
   "execution_count": 1,
   "metadata": {},
   "outputs": [],
   "source": [
    "import numpy as np\n",
    "from sklearn import preprocessing\n",
    "\n",
    "raw_csv_data = np.loadtxt('Audiobooks_data.csv', delimiter=',')\n",
    "\n",
    "unscaled_inputs_all = raw_csv_data[:,1:-1]\n",
    "targets_all = raw_csv_data[:,-1]"
   ]
  },
  {
   "cell_type": "markdown",
   "metadata": {},
   "source": [
    "### Balance the dataset \n",
    "\n",
    "Make sure each target has equal number of samples in the dataset"
   ]
  },
  {
   "cell_type": "code",
   "execution_count": 6,
   "metadata": {},
   "outputs": [],
   "source": [
    "num_targets_one = int(targets_all.sum())\n",
    "num_targets_zero = 0\n",
    "indices_to_remove = []\n",
    "\n",
    "for i in range(len(targets_all)):\n",
    "    if targets_all[i] == 0:\n",
    "        num_targets_zero += 1\n",
    "        if num_targets_zero > num_targets_one:\n",
    "            indices_to_remove.append(i)\n",
    "\n",
    "unscaled_inputs_balanced = np.delete(unscaled_inputs_all, indices_to_remove, axis=0)\n",
    "targets_balanced = np.delete(targets_all, indices_to_remove, axis=0)"
   ]
  },
  {
   "cell_type": "markdown",
   "metadata": {},
   "source": [
    "### Standardize the input "
   ]
  },
  {
   "cell_type": "code",
   "execution_count": 7,
   "metadata": {},
   "outputs": [],
   "source": [
    "scaled_inputs = preprocessing.scale(unscaled_inputs_balanced)"
   ]
  },
  {
   "cell_type": "markdown",
   "metadata": {},
   "source": [
    "### Shuffle the data"
   ]
  },
  {
   "cell_type": "code",
   "execution_count": 8,
   "metadata": {},
   "outputs": [],
   "source": [
    "shuffled_indices = np.arange(len(scaled_inputs))\n",
    "np.random.shuffle(shuffled_indices)\n",
    "\n",
    "shuffled_inputs = scaled_inputs[shuffled_indices]\n",
    "shuffled_targets = targets_balanced[shuffled_indices]"
   ]
  },
  {
   "cell_type": "markdown",
   "metadata": {},
   "source": [
    "### Split the dataset into train, validation and test "
   ]
  },
  {
   "cell_type": "code",
   "execution_count": 9,
   "metadata": {},
   "outputs": [],
   "source": [
    "num_samples = int(len(shuffled_inputs))\n",
    "\n",
    "num_train = int(0.8 * num_samples)\n",
    "num_validation = int(0.1 * num_samples)\n",
    "num_test = num_samples - num_train - num_validation\n",
    "\n",
    "train_inputs = shuffled_inputs[:num_train]\n",
    "train_targets = shuffled_targets[:num_train]\n",
    "validation_inputs = shuffled_inputs[num_train:num_train+num_validation]\n",
    "validation_targets = shuffled_targets[num_train:num_train+num_validation]\n",
    "test_inputs = shuffled_inputs[num_train+num_validation:]\n",
    "test_targets = shuffled_targets[num_train+num_validation:]"
   ]
  },
  {
   "cell_type": "markdown",
   "metadata": {},
   "source": [
    "### Save train, validation and test datasets in npz file "
   ]
  },
  {
   "cell_type": "code",
   "execution_count": 10,
   "metadata": {},
   "outputs": [],
   "source": [
    "np.savez('Audiobooks_train_data', inputs=train_inputs, targets=train_targets)\n",
    "np.savez('Audiobooks_validation_data', inputs=validation_inputs, targets=validation_targets)\n",
    "np.savez('Audiobooks_test_data', inputs=test_inputs, targets=test_targets)"
   ]
  },
  {
   "cell_type": "code",
   "execution_count": null,
   "metadata": {},
   "outputs": [],
   "source": []
  }
 ],
 "metadata": {
  "kernelspec": {
   "display_name": "Python TF",
   "language": "python",
   "name": "tf"
  },
  "language_info": {
   "codemirror_mode": {
    "name": "ipython",
    "version": 3
   },
   "file_extension": ".py",
   "mimetype": "text/x-python",
   "name": "python",
   "nbconvert_exporter": "python",
   "pygments_lexer": "ipython3",
   "version": "3.7.7"
  }
 },
 "nbformat": 4,
 "nbformat_minor": 4
}
