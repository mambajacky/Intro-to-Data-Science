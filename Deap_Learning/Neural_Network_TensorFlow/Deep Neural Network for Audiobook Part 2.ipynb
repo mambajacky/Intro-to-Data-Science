{
 "cells": [
  {
   "cell_type": "markdown",
   "metadata": {},
   "source": [
    "# Neural Network Practical Example - Modeling"
   ]
  },
  {
   "cell_type": "markdown",
   "metadata": {},
   "source": [
    "## Create machine learning algorithm"
   ]
  },
  {
   "cell_type": "markdown",
   "metadata": {},
   "source": [
    "### Import relevant packages"
   ]
  },
  {
   "cell_type": "code",
   "execution_count": 1,
   "metadata": {},
   "outputs": [],
   "source": [
    "import numpy as np\n",
    "import tensorflow as tf"
   ]
  },
  {
   "cell_type": "markdown",
   "metadata": {},
   "source": [
    "### Data"
   ]
  },
  {
   "cell_type": "code",
   "execution_count": 2,
   "metadata": {},
   "outputs": [],
   "source": [
    "train_data = np.load('Audiobooks_train_data.npz')\n",
    "validation_data = np.load('Audiobooks_validation_data.npz')\n",
    "test_data = np.load('Audiobooks_test_data.npz')\n",
    "\n",
    "# np.array.astype() makes a copy of the array and casts to a specific type\n",
    "train_inputs = train_data['inputs'].astype(np.float)\n",
    "train_targets = train_data['targets'].astype(np.int)\n",
    "\n",
    "validation_inputs, validation_targets = validation_data['inputs'].astype(np.float), validation_data['targets'].astype(np.int)\n",
    "test_inputs, test_targets = test_data['inputs'].astype(np.float), test_data['targets'].astype(np.int)"
   ]
  },
  {
   "cell_type": "markdown",
   "metadata": {},
   "source": [
    "### Model\n",
    "\n",
    "Outline the model, create optimizer, loss, early stopping and training"
   ]
  },
  {
   "cell_type": "code",
   "execution_count": 9,
   "metadata": {},
   "outputs": [
    {
     "name": "stdout",
     "output_type": "stream",
     "text": [
      "Train on 3579 samples, validate on 447 samples\n",
      "Epoch 1/50\n",
      "3579/3579 - 1s - loss: 0.6824 - accuracy: 0.5379 - val_loss: 0.6136 - val_accuracy: 0.7405\n",
      "Epoch 2/50\n",
      "3579/3579 - 0s - loss: 0.5730 - accuracy: 0.7904 - val_loss: 0.5242 - val_accuracy: 0.8210\n",
      "Epoch 3/50\n",
      "3579/3579 - 0s - loss: 0.4798 - accuracy: 0.8455 - val_loss: 0.4532 - val_accuracy: 0.8367\n",
      "Epoch 4/50\n",
      "3579/3579 - 0s - loss: 0.4006 - accuracy: 0.8667 - val_loss: 0.4069 - val_accuracy: 0.8523\n",
      "Epoch 5/50\n",
      "3579/3579 - 0s - loss: 0.3493 - accuracy: 0.8782 - val_loss: 0.3910 - val_accuracy: 0.8546\n",
      "Epoch 6/50\n",
      "3579/3579 - 0s - loss: 0.3257 - accuracy: 0.8810 - val_loss: 0.3832 - val_accuracy: 0.8501\n",
      "Epoch 7/50\n",
      "3579/3579 - 0s - loss: 0.3113 - accuracy: 0.8849 - val_loss: 0.3755 - val_accuracy: 0.8568\n",
      "Epoch 8/50\n",
      "3579/3579 - 0s - loss: 0.3012 - accuracy: 0.8863 - val_loss: 0.3604 - val_accuracy: 0.8613\n",
      "Epoch 9/50\n",
      "3579/3579 - 0s - loss: 0.2899 - accuracy: 0.8894 - val_loss: 0.3415 - val_accuracy: 0.8591\n",
      "Epoch 10/50\n",
      "3579/3579 - 0s - loss: 0.2814 - accuracy: 0.8947 - val_loss: 0.3305 - val_accuracy: 0.8658\n",
      "Epoch 11/50\n",
      "3579/3579 - 0s - loss: 0.2743 - accuracy: 0.8961 - val_loss: 0.3255 - val_accuracy: 0.8658\n",
      "Epoch 12/50\n",
      "3579/3579 - 0s - loss: 0.2695 - accuracy: 0.9003 - val_loss: 0.3208 - val_accuracy: 0.8702\n",
      "Epoch 13/50\n",
      "3579/3579 - 0s - loss: 0.2651 - accuracy: 0.8994 - val_loss: 0.3154 - val_accuracy: 0.8658\n",
      "Epoch 14/50\n",
      "3579/3579 - 0s - loss: 0.2613 - accuracy: 0.9016 - val_loss: 0.3131 - val_accuracy: 0.8658\n",
      "Epoch 15/50\n",
      "3579/3579 - 0s - loss: 0.2566 - accuracy: 0.9022 - val_loss: 0.3131 - val_accuracy: 0.8680\n",
      "Epoch 16/50\n",
      "3579/3579 - 0s - loss: 0.2536 - accuracy: 0.9064 - val_loss: 0.3061 - val_accuracy: 0.8725\n",
      "Epoch 17/50\n",
      "3579/3579 - 0s - loss: 0.2498 - accuracy: 0.9078 - val_loss: 0.3120 - val_accuracy: 0.8725\n",
      "Epoch 18/50\n",
      "3579/3579 - 0s - loss: 0.2472 - accuracy: 0.9058 - val_loss: 0.3004 - val_accuracy: 0.8747\n",
      "Epoch 19/50\n",
      "3579/3579 - 0s - loss: 0.2440 - accuracy: 0.9086 - val_loss: 0.3093 - val_accuracy: 0.8725\n",
      "Epoch 20/50\n",
      "3579/3579 - 0s - loss: 0.2439 - accuracy: 0.9078 - val_loss: 0.3006 - val_accuracy: 0.8770\n"
     ]
    },
    {
     "data": {
      "text/plain": [
       "<tensorflow.python.keras.callbacks.History at 0x269430f8688>"
      ]
     },
     "execution_count": 9,
     "metadata": {},
     "output_type": "execute_result"
    }
   ],
   "source": [
    "# define hypeparameters\n",
    "input_size = 10\n",
    "output_size = 2\n",
    "hidden_layer_size = 50\n",
    "\n",
    "model = tf.keras.Sequential([\n",
    "                            # tf.keras.layers.Dense(output size) takes inputs and calculates (xw + b)\n",
    "                            # and can also apply activation function for each layer\n",
    "                            # hiddent layers\n",
    "                            tf.keras.layers.Dense(units=hidden_layer_size, activation='relu'),\n",
    "                            tf.keras.layers.Dense(units=hidden_layer_size, activation='relu'),\n",
    "                            tf.keras.layers.Dense(units=hidden_layer_size, activation='relu'),\n",
    "                            # output layer\n",
    "                            # softmax is often used as activation for output layer for classification\n",
    "                            tf.keras.layers.Dense(units=output_size, activation='softmax')\n",
    "                            ])\n",
    "\n",
    "model.compile(optimizer='adam', loss='sparse_categorical_crossentropy', metrics=['accuracy'])\n",
    "\n",
    "batch_size = 500\n",
    "\n",
    "max_epoch = 50\n",
    "\n",
    "# by default, EarlyStopping object will stop the training process the first time validation loss increases\n",
    "early_stopping = tf.keras.callbacks.EarlyStopping(patience=2)\n",
    "\n",
    "model.fit(train_inputs, \n",
    "          train_targets, \n",
    "          batch_size = batch_size, \n",
    "          epochs = max_epoch,\n",
    "          callbacks = [early_stopping],\n",
    "          validation_data = (validation_inputs, validation_targets),\n",
    "          validation_steps = 1,\n",
    "          verbose = 2)"
   ]
  },
  {
   "cell_type": "markdown",
   "metadata": {},
   "source": [
    "### Test the model "
   ]
  },
  {
   "cell_type": "code",
   "execution_count": 13,
   "metadata": {},
   "outputs": [
    {
     "name": "stdout",
     "output_type": "stream",
     "text": [
      "448/1 - 0s - loss: 0.2796 - accuracy: 0.9263\n"
     ]
    }
   ],
   "source": [
    "test_loss, test_accuracy = model.evaluate(test_inputs, test_targets, verbose = 2)"
   ]
  },
  {
   "cell_type": "code",
   "execution_count": 20,
   "metadata": {},
   "outputs": [
    {
     "name": "stdout",
     "output_type": "stream",
     "text": [
      "\n",
      "Test loss: 0.23. Test accuracy: 92.63%\n"
     ]
    }
   ],
   "source": [
    "print(\"\\nTest loss: {0:.2f}. Test accuracy: {1:.2f}%\".format(test_loss, test_accuracy*100))"
   ]
  },
  {
   "cell_type": "code",
   "execution_count": null,
   "metadata": {},
   "outputs": [],
   "source": []
  }
 ],
 "metadata": {
  "kernelspec": {
   "display_name": "Python TF",
   "language": "python",
   "name": "tf"
  },
  "language_info": {
   "codemirror_mode": {
    "name": "ipython",
    "version": 3
   },
   "file_extension": ".py",
   "mimetype": "text/x-python",
   "name": "python",
   "nbconvert_exporter": "python",
   "pygments_lexer": "ipython3",
   "version": "3.7.7"
  }
 },
 "nbformat": 4,
 "nbformat_minor": 4
}
