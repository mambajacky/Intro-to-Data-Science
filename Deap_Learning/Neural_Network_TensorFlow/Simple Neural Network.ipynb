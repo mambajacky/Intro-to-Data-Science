{
 "cells": [
  {
   "cell_type": "markdown",
   "metadata": {},
   "source": [
    "# Simple Neural Network Example with TensorFlow\n",
    "\n",
    "Build a simple neural network (1-layer, no activation function) using TensorFlow"
   ]
  },
  {
   "cell_type": "markdown",
   "metadata": {},
   "source": [
    "### Import relevant libraries "
   ]
  },
  {
   "cell_type": "code",
   "execution_count": 23,
   "metadata": {},
   "outputs": [],
   "source": [
    "import numpy as np\n",
    "import matplotlib.pyplot as plt\n",
    "import tensorflow as tf"
   ]
  },
  {
   "cell_type": "markdown",
   "metadata": {},
   "source": [
    "### Generate fake data "
   ]
  },
  {
   "cell_type": "code",
   "execution_count": 24,
   "metadata": {},
   "outputs": [],
   "source": [
    "observations = 1000\n",
    "x = np.random.uniform(low=-10, high=10, size=(observations,1))\n",
    "y = np.random.uniform(low=-10, high=10, size=(observations,1))\n",
    "inputs = np.column_stack((x,y)) # stack several 1-D arrays to a single 2-D array\n",
    "\n",
    "noise = np.random.uniform(-1, 1, (observations,1))\n",
    "targets = 2 * x - 3 * y + 5 + noise"
   ]
  },
  {
   "cell_type": "markdown",
   "metadata": {},
   "source": [
    "### Save generated data in .npz file\n",
    "\n",
    "1. npz is a NumPy file type that can stores N-dimensional arrays \n",
    "2. So we need to store data in this way as tensors can be represented in N-dimensional arrays"
   ]
  },
  {
   "cell_type": "code",
   "execution_count": 25,
   "metadata": {},
   "outputs": [],
   "source": [
    "np.savez('TF_sample', inputs=inputs, targets=targets)"
   ]
  },
  {
   "cell_type": "markdown",
   "metadata": {},
   "source": [
    "### Solving with TensorFlow "
   ]
  },
  {
   "cell_type": "code",
   "execution_count": 26,
   "metadata": {},
   "outputs": [],
   "source": [
    "training_data = np.load('TF_sample.npz')"
   ]
  },
  {
   "cell_type": "code",
   "execution_count": 27,
   "metadata": {},
   "outputs": [
    {
     "name": "stdout",
     "output_type": "stream",
     "text": [
      "Train on 1000 samples\n",
      "Epoch 1/100\n",
      "1000/1000 - 0s - loss: 21.6446\n",
      "Epoch 2/100\n",
      "1000/1000 - 0s - loss: 1.3350\n",
      "Epoch 3/100\n",
      "1000/1000 - 0s - loss: 0.4414\n",
      "Epoch 4/100\n",
      "1000/1000 - 0s - loss: 0.3644\n",
      "Epoch 5/100\n",
      "1000/1000 - 0s - loss: 0.3913\n",
      "Epoch 6/100\n",
      "1000/1000 - 0s - loss: 0.3841\n",
      "Epoch 7/100\n",
      "1000/1000 - 0s - loss: 0.4044\n",
      "Epoch 8/100\n",
      "1000/1000 - 0s - loss: 0.4197\n",
      "Epoch 9/100\n",
      "1000/1000 - 0s - loss: 0.3895\n",
      "Epoch 10/100\n",
      "1000/1000 - 0s - loss: 0.3871\n",
      "Epoch 11/100\n",
      "1000/1000 - 0s - loss: 0.3924\n",
      "Epoch 12/100\n",
      "1000/1000 - 0s - loss: 0.3641\n",
      "Epoch 13/100\n",
      "1000/1000 - 0s - loss: 0.3928\n",
      "Epoch 14/100\n",
      "1000/1000 - 0s - loss: 0.3868\n",
      "Epoch 15/100\n",
      "1000/1000 - 0s - loss: 0.3554\n",
      "Epoch 16/100\n",
      "1000/1000 - 0s - loss: 0.3899\n",
      "Epoch 17/100\n",
      "1000/1000 - 0s - loss: 0.3965\n",
      "Epoch 18/100\n",
      "1000/1000 - 0s - loss: 0.3933\n",
      "Epoch 19/100\n",
      "1000/1000 - 0s - loss: 0.3998\n",
      "Epoch 20/100\n",
      "1000/1000 - 0s - loss: 0.3709\n",
      "Epoch 21/100\n",
      "1000/1000 - 0s - loss: 0.4053\n",
      "Epoch 22/100\n",
      "1000/1000 - 0s - loss: 0.3891\n",
      "Epoch 23/100\n",
      "1000/1000 - 0s - loss: 0.3821\n",
      "Epoch 24/100\n",
      "1000/1000 - 0s - loss: 0.3932\n",
      "Epoch 25/100\n",
      "1000/1000 - 0s - loss: 0.4071\n",
      "Epoch 26/100\n",
      "1000/1000 - 0s - loss: 0.3973\n",
      "Epoch 27/100\n",
      "1000/1000 - 0s - loss: 0.3719\n",
      "Epoch 28/100\n",
      "1000/1000 - 0s - loss: 0.3875\n",
      "Epoch 29/100\n",
      "1000/1000 - 0s - loss: 0.3844\n",
      "Epoch 30/100\n",
      "1000/1000 - 0s - loss: 0.3966\n",
      "Epoch 31/100\n",
      "1000/1000 - 0s - loss: 0.3909\n",
      "Epoch 32/100\n",
      "1000/1000 - 0s - loss: 0.3897\n",
      "Epoch 33/100\n",
      "1000/1000 - 0s - loss: 0.4130\n",
      "Epoch 34/100\n",
      "1000/1000 - 0s - loss: 0.3774\n",
      "Epoch 35/100\n",
      "1000/1000 - 0s - loss: 0.3616\n",
      "Epoch 36/100\n",
      "1000/1000 - 0s - loss: 0.4164\n",
      "Epoch 37/100\n",
      "1000/1000 - 0s - loss: 0.3728\n",
      "Epoch 38/100\n",
      "1000/1000 - 0s - loss: 0.4014\n",
      "Epoch 39/100\n",
      "1000/1000 - 0s - loss: 0.3924\n",
      "Epoch 40/100\n",
      "1000/1000 - 0s - loss: 0.3678\n",
      "Epoch 41/100\n",
      "1000/1000 - 0s - loss: 0.3665\n",
      "Epoch 42/100\n",
      "1000/1000 - 0s - loss: 0.4286\n",
      "Epoch 43/100\n",
      "1000/1000 - 0s - loss: 0.3839\n",
      "Epoch 44/100\n",
      "1000/1000 - 0s - loss: 0.3858\n",
      "Epoch 45/100\n",
      "1000/1000 - 0s - loss: 0.3675\n",
      "Epoch 46/100\n",
      "1000/1000 - 0s - loss: 0.3958\n",
      "Epoch 47/100\n",
      "1000/1000 - 0s - loss: 0.3784\n",
      "Epoch 48/100\n",
      "1000/1000 - 0s - loss: 0.3884\n",
      "Epoch 49/100\n",
      "1000/1000 - 0s - loss: 0.4007\n",
      "Epoch 50/100\n",
      "1000/1000 - 0s - loss: 0.3807\n",
      "Epoch 51/100\n",
      "1000/1000 - 0s - loss: 0.3937\n",
      "Epoch 52/100\n",
      "1000/1000 - 0s - loss: 0.3971\n",
      "Epoch 53/100\n",
      "1000/1000 - 0s - loss: 0.3804\n",
      "Epoch 54/100\n",
      "1000/1000 - 0s - loss: 0.4105\n",
      "Epoch 55/100\n",
      "1000/1000 - 0s - loss: 0.3663\n",
      "Epoch 56/100\n",
      "1000/1000 - 0s - loss: 0.3849\n",
      "Epoch 57/100\n",
      "1000/1000 - 0s - loss: 0.3957\n",
      "Epoch 58/100\n",
      "1000/1000 - 0s - loss: 0.3786\n",
      "Epoch 59/100\n",
      "1000/1000 - 0s - loss: 0.3953\n",
      "Epoch 60/100\n",
      "1000/1000 - 0s - loss: 0.4406\n",
      "Epoch 61/100\n",
      "1000/1000 - 0s - loss: 0.4084\n",
      "Epoch 62/100\n",
      "1000/1000 - 0s - loss: 0.3891\n",
      "Epoch 63/100\n",
      "1000/1000 - 0s - loss: 0.4055\n",
      "Epoch 64/100\n",
      "1000/1000 - 0s - loss: 0.3666\n",
      "Epoch 65/100\n",
      "1000/1000 - 0s - loss: 0.4008\n",
      "Epoch 66/100\n",
      "1000/1000 - 0s - loss: 0.3518\n",
      "Epoch 67/100\n",
      "1000/1000 - 0s - loss: 0.3744\n",
      "Epoch 68/100\n",
      "1000/1000 - 0s - loss: 0.3913\n",
      "Epoch 69/100\n",
      "1000/1000 - 0s - loss: 0.4075\n",
      "Epoch 70/100\n",
      "1000/1000 - 0s - loss: 0.3844\n",
      "Epoch 71/100\n",
      "1000/1000 - 0s - loss: 0.3717\n",
      "Epoch 72/100\n",
      "1000/1000 - 0s - loss: 0.3710\n",
      "Epoch 73/100\n",
      "1000/1000 - 0s - loss: 0.4148\n",
      "Epoch 74/100\n",
      "1000/1000 - 0s - loss: 0.3901\n",
      "Epoch 75/100\n",
      "1000/1000 - 0s - loss: 0.3793\n",
      "Epoch 76/100\n",
      "1000/1000 - 0s - loss: 0.4269\n",
      "Epoch 77/100\n",
      "1000/1000 - 0s - loss: 0.3892\n",
      "Epoch 78/100\n",
      "1000/1000 - 0s - loss: 0.3697\n",
      "Epoch 79/100\n",
      "1000/1000 - 0s - loss: 0.4071\n",
      "Epoch 80/100\n",
      "1000/1000 - 0s - loss: 0.3716\n",
      "Epoch 81/100\n",
      "1000/1000 - 0s - loss: 0.3705\n",
      "Epoch 82/100\n",
      "1000/1000 - 0s - loss: 0.3669\n",
      "Epoch 83/100\n",
      "1000/1000 - 0s - loss: 0.4015\n",
      "Epoch 84/100\n",
      "1000/1000 - 0s - loss: 0.3685\n",
      "Epoch 85/100\n",
      "1000/1000 - 0s - loss: 0.3801\n",
      "Epoch 86/100\n",
      "1000/1000 - 0s - loss: 0.3824\n",
      "Epoch 87/100\n",
      "1000/1000 - 0s - loss: 0.3849\n",
      "Epoch 88/100\n",
      "1000/1000 - 0s - loss: 0.4464\n",
      "Epoch 89/100\n",
      "1000/1000 - 0s - loss: 0.3900\n",
      "Epoch 90/100\n",
      "1000/1000 - 0s - loss: 0.3731\n",
      "Epoch 91/100\n",
      "1000/1000 - 0s - loss: 0.3789\n",
      "Epoch 92/100\n",
      "1000/1000 - 0s - loss: 0.3737\n",
      "Epoch 93/100\n",
      "1000/1000 - 0s - loss: 0.3543\n",
      "Epoch 94/100\n",
      "1000/1000 - 0s - loss: 0.3795\n",
      "Epoch 95/100\n",
      "1000/1000 - 0s - loss: 0.3874\n",
      "Epoch 96/100\n",
      "1000/1000 - 0s - loss: 0.3928\n",
      "Epoch 97/100\n",
      "1000/1000 - 0s - loss: 0.3899\n",
      "Epoch 98/100\n",
      "1000/1000 - 0s - loss: 0.3725\n",
      "Epoch 99/100\n",
      "1000/1000 - 0s - loss: 0.3782\n",
      "Epoch 100/100\n",
      "1000/1000 - 0s - loss: 0.4003\n"
     ]
    },
    {
     "data": {
      "text/plain": [
       "<tensorflow.python.keras.callbacks.History at 0x24c14adf860>"
      ]
     },
     "execution_count": 27,
     "metadata": {},
     "output_type": "execute_result"
    }
   ],
   "source": [
    "input_size = 2\n",
    "output_size = 1\n",
    "\n",
    "# Build a model \n",
    "# lay out the model in 'Sequential', note that there are no calculations involved - we are just describing our network\n",
    "model = tf.keras.Sequential([\n",
    "                            # aach 'layer' is listed here\n",
    "                            # the method 'Dense' indicates, our mathematical operation to be (xw + b)\n",
    "                            # output will have a shape of (*, units)\n",
    "                            tf.keras.layers.Dense(units=output_size,\n",
    "                                                  # kernel_initializer and bias_initializer define the initial values of weights and bias\n",
    "                                                  kernel_initializer=tf.random_uniform_initializer(minval=-0.1,maxval=0.1),\n",
    "                                                  bias_initializer=tf.random_uniform_initializer(minval=-0.1,maxval=0.1)\n",
    "                                                  )\n",
    "                            ])\n",
    "\n",
    "# Define optimizer and loss function\n",
    "# SGD refers to stocahstic gradient default\n",
    "# MeanSquaredError refers to L-2 norm scaled by number of observations\n",
    "custom_optimizer = tf.keras.optimizers.SGD(learning_rate=0.02)\n",
    "custom_loss = tf.keras.losses.MeanSquaredError()\n",
    "\n",
    "# 'compile' is the place where you select and indicate the optimizers and the loss\n",
    "model.compile(optimizer=custom_optimizer, loss=custom_loss)\n",
    "\n",
    "# Train the model\n",
    "# epochs is the number of iterations\n",
    "# verbose = 0, means no output is displayed; verbose = 2, means display output\n",
    "model.fit(training_data['inputs'], training_data['targets'] ,epochs=100, verbose=2)"
   ]
  },
  {
   "cell_type": "markdown",
   "metadata": {},
   "source": [
    "### Extract the weights and bias"
   ]
  },
  {
   "cell_type": "code",
   "execution_count": 28,
   "metadata": {},
   "outputs": [
    {
     "data": {
      "text/plain": [
       "[array([[ 2.0652454],\n",
       "        [-3.0057743]], dtype=float32), array([4.978539], dtype=float32)]"
      ]
     },
     "execution_count": 28,
     "metadata": {},
     "output_type": "execute_result"
    }
   ],
   "source": [
    "# since there's only one layer in this NN, we extract weights/bias from first layer\n",
    "model.layers[0].get_weights()"
   ]
  },
  {
   "cell_type": "markdown",
   "metadata": {},
   "source": [
    "### Plot the predictions "
   ]
  },
  {
   "cell_type": "code",
   "execution_count": 29,
   "metadata": {},
   "outputs": [
    {
     "data": {
      "image/png": "[encoded data removed]",
      "text/plain": [
       "<Figure size 432x288 with 1 Axes>"
      ]
     },
     "metadata": {
      "needs_background": "light"
     },
     "output_type": "display_data"
    }
   ],
   "source": [
    "plt.plot(model.predict_on_batch(training_data['inputs']), training_data['targets'])\n",
    "plt.xlabel('outputs')\n",
    "plt.ylabel('targets')\n",
    "plt.show()"
   ]
  },
  {
   "cell_type": "code",
   "execution_count": null,
   "metadata": {},
   "outputs": [],
   "source": []
  }
 ],
 "metadata": {
  "kernelspec": {
   "display_name": "Python 3",
   "language": "python",
   "name": "python3"
  },
  "language_info": {
   "codemirror_mode": {
    "name": "ipython",
    "version": 3
   },
   "file_extension": ".py",
   "mimetype": "text/x-python",
   "name": "python",
   "nbconvert_exporter": "python",
   "pygments_lexer": "ipython3",
   "version": "3.7.7"
  }
 },
 "nbformat": 4,
 "nbformat_minor": 2
}
